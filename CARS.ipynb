{
 "cells": [
  {
   "cell_type": "code",
   "execution_count": 1,
   "id": "e93e7f1f-f3f7-4c16-9f37-15b61c57375f",
   "metadata": {},
   "outputs": [],
   "source": [
    "import pandas as pd"
   ]
  },
  {
   "cell_type": "code",
   "execution_count": 5,
   "id": "954ceba5-1d02-48ae-ba0d-7f2af21b2f8e",
   "metadata": {},
   "outputs": [
    {
     "data": {
      "text/html": [
       "<div>\n",
       "<style scoped>\n",
       "    .dataframe tbody tr th:only-of-type {\n",
       "        vertical-align: middle;\n",
       "    }\n",
       "\n",
       "    .dataframe tbody tr th {\n",
       "        vertical-align: top;\n",
       "    }\n",
       "\n",
       "    .dataframe thead th {\n",
       "        text-align: right;\n",
       "    }\n",
       "</style>\n",
       "<table border=\"1\" class=\"dataframe\">\n",
       "  <thead>\n",
       "    <tr style=\"text-align: right;\">\n",
       "      <th></th>\n",
       "      <th>mpg</th>\n",
       "      <th>cylinders</th>\n",
       "      <th>displacement</th>\n",
       "      <th>horsepower</th>\n",
       "      <th>weight</th>\n",
       "      <th>acceleration</th>\n",
       "      <th>model_year</th>\n",
       "      <th>origin</th>\n",
       "      <th>name</th>\n",
       "    </tr>\n",
       "  </thead>\n",
       "  <tbody>\n",
       "    <tr>\n",
       "      <th>0</th>\n",
       "      <td>18.0</td>\n",
       "      <td>8</td>\n",
       "      <td>307.0</td>\n",
       "      <td>130.0</td>\n",
       "      <td>3504</td>\n",
       "      <td>12.0</td>\n",
       "      <td>70</td>\n",
       "      <td>usa</td>\n",
       "      <td>chevrolet chevelle malibu</td>\n",
       "    </tr>\n",
       "    <tr>\n",
       "      <th>1</th>\n",
       "      <td>15.0</td>\n",
       "      <td>8</td>\n",
       "      <td>350.0</td>\n",
       "      <td>165.0</td>\n",
       "      <td>3693</td>\n",
       "      <td>11.5</td>\n",
       "      <td>70</td>\n",
       "      <td>usa</td>\n",
       "      <td>buick skylark 320</td>\n",
       "    </tr>\n",
       "    <tr>\n",
       "      <th>2</th>\n",
       "      <td>18.0</td>\n",
       "      <td>8</td>\n",
       "      <td>318.0</td>\n",
       "      <td>150.0</td>\n",
       "      <td>3436</td>\n",
       "      <td>11.0</td>\n",
       "      <td>70</td>\n",
       "      <td>usa</td>\n",
       "      <td>plymouth satellite</td>\n",
       "    </tr>\n",
       "    <tr>\n",
       "      <th>3</th>\n",
       "      <td>16.0</td>\n",
       "      <td>8</td>\n",
       "      <td>304.0</td>\n",
       "      <td>150.0</td>\n",
       "      <td>3433</td>\n",
       "      <td>12.0</td>\n",
       "      <td>70</td>\n",
       "      <td>usa</td>\n",
       "      <td>amc rebel sst</td>\n",
       "    </tr>\n",
       "    <tr>\n",
       "      <th>4</th>\n",
       "      <td>17.0</td>\n",
       "      <td>8</td>\n",
       "      <td>302.0</td>\n",
       "      <td>140.0</td>\n",
       "      <td>3449</td>\n",
       "      <td>10.5</td>\n",
       "      <td>70</td>\n",
       "      <td>usa</td>\n",
       "      <td>ford torino</td>\n",
       "    </tr>\n",
       "  </tbody>\n",
       "</table>\n",
       "</div>"
      ],
      "text/plain": [
       "    mpg  cylinders  displacement  horsepower  weight  acceleration  \\\n",
       "0  18.0          8         307.0       130.0    3504          12.0   \n",
       "1  15.0          8         350.0       165.0    3693          11.5   \n",
       "2  18.0          8         318.0       150.0    3436          11.0   \n",
       "3  16.0          8         304.0       150.0    3433          12.0   \n",
       "4  17.0          8         302.0       140.0    3449          10.5   \n",
       "\n",
       "   model_year origin                       name  \n",
       "0          70    usa  chevrolet chevelle malibu  \n",
       "1          70    usa          buick skylark 320  \n",
       "2          70    usa         plymouth satellite  \n",
       "3          70    usa              amc rebel sst  \n",
       "4          70    usa                ford torino  "
      ]
     },
     "execution_count": 5,
     "metadata": {},
     "output_type": "execute_result"
    }
   ],
   "source": [
    "df = pd.read_csv('cars.csv')\n",
    "df.head()"
   ]
  },
  {
   "cell_type": "code",
   "execution_count": 7,
   "id": "0215b0c9-6e73-479a-81ec-6b78f1b2b00a",
   "metadata": {},
   "outputs": [
    {
     "name": "stdout",
     "output_type": "stream",
     "text": [
      "2973.946835443038\n"
     ]
    }
   ],
   "source": [
    "mean_weight = df['weight'].mean()\n",
    "print(mean_weight)"
   ]
  },
  {
   "cell_type": "code",
   "execution_count": 9,
   "id": "8718e15d-0787-40f3-bc36-b7c71e5a7b09",
   "metadata": {},
   "outputs": [
    {
     "name": "stdout",
     "output_type": "stream",
     "text": [
      "230.0\n"
     ]
    }
   ],
   "source": [
    "max_horsepower = df['horsepower'].max()\n",
    "print(max_horsepower)"
   ]
  },
  {
   "cell_type": "code",
   "execution_count": 11,
   "id": "b21a51e5-bc64-4cc1-bfd4-fd87ec87a8eb",
   "metadata": {},
   "outputs": [
    {
     "name": "stdout",
     "output_type": "stream",
     "text": [
      "109\n"
     ]
    }
   ],
   "source": [
    "heavy_cars = (df['weight'] >= 3500).sum()\n",
    "print(heavy_cars)"
   ]
  },
  {
   "cell_type": "code",
   "execution_count": 13,
   "id": "362fe5fe-7dd6-4018-a4d9-a36bf9c882a4",
   "metadata": {},
   "outputs": [
    {
     "name": "stdout",
     "output_type": "stream",
     "text": [
      "      mpg  cylinders  displacement  horsepower  weight  acceleration  \\\n",
      "0    18.0          8         307.0       130.0    3504          12.0   \n",
      "1    15.0          8         350.0       165.0    3693          11.5   \n",
      "2    18.0          8         318.0       150.0    3436          11.0   \n",
      "3    16.0          8         304.0       150.0    3433          12.0   \n",
      "4    17.0          8         302.0       140.0    3449          10.5   \n",
      "..    ...        ...           ...         ...     ...           ...   \n",
      "390  27.0          4         140.0        86.0    2790          15.6   \n",
      "391  44.0          4          97.0        52.0    2130          24.6   \n",
      "392  32.0          4         135.0        84.0    2295          11.6   \n",
      "393  28.0          4         120.0        79.0    2625          18.6   \n",
      "394  31.0          4         119.0        82.0    2720          19.4   \n",
      "\n",
      "     model_year  origin                       name     ratio  \n",
      "0            70     usa  chevrolet chevelle malibu  0.037100  \n",
      "1            70     usa          buick skylark 320  0.044679  \n",
      "2            70     usa         plymouth satellite  0.043655  \n",
      "3            70     usa              amc rebel sst  0.043694  \n",
      "4            70     usa                ford torino  0.040591  \n",
      "..          ...     ...                        ...       ...  \n",
      "390          82     usa            ford mustang gl  0.030824  \n",
      "391          82  europe                  vw pickup  0.024413  \n",
      "392          82     usa              dodge rampage  0.036601  \n",
      "393          82     usa                ford ranger  0.030095  \n",
      "394          82     usa                 chevy s-10  0.030147  \n",
      "\n",
      "[395 rows x 10 columns]\n"
     ]
    }
   ],
   "source": [
    "df_ratio = df.copy()\n",
    "\n",
    "df_ratio['ratio'] = df_ratio['horsepower'] / df_ratio['weight']\n",
    "print(df_ratio)"
   ]
  },
  {
   "cell_type": "code",
   "execution_count": 15,
   "id": "e541247f-e1fc-44b3-9e0d-0d589e2f2fe9",
   "metadata": {},
   "outputs": [
    {
     "name": "stdout",
     "output_type": "stream",
     "text": [
      "      mpg  cylinders  displacement  horsepower  weight  acceleration  \\\n",
      "0    18.0          8         307.0       130.0    3504          12.0   \n",
      "1    15.0          8         350.0       165.0    3693          11.5   \n",
      "2    18.0          8         318.0       150.0    3436          11.0   \n",
      "3    16.0          8         304.0       150.0    3433          12.0   \n",
      "4    17.0          8         302.0       140.0    3449          10.5   \n",
      "..    ...        ...           ...         ...     ...           ...   \n",
      "389  27.0          4         151.0        90.0    2950          17.3   \n",
      "390  27.0          4         140.0        86.0    2790          15.6   \n",
      "392  32.0          4         135.0        84.0    2295          11.6   \n",
      "393  28.0          4         120.0        79.0    2625          18.6   \n",
      "394  31.0          4         119.0        82.0    2720          19.4   \n",
      "\n",
      "     model_year origin                       name  \n",
      "0            70    usa  chevrolet chevelle malibu  \n",
      "1            70    usa          buick skylark 320  \n",
      "2            70    usa         plymouth satellite  \n",
      "3            70    usa              amc rebel sst  \n",
      "4            70    usa                ford torino  \n",
      "..          ...    ...                        ...  \n",
      "389          82    usa           chevrolet camaro  \n",
      "390          82    usa            ford mustang gl  \n",
      "392          82    usa              dodge rampage  \n",
      "393          82    usa                ford ranger  \n",
      "394          82    usa                 chevy s-10  \n",
      "\n",
      "[246 rows x 9 columns]\n"
     ]
    }
   ],
   "source": [
    "df_usa = df.copy()\n",
    "\n",
    "df_usa = df_usa[df_usa['origin'] == 'usa']\n",
    "print(df_usa)"
   ]
  },
  {
   "cell_type": "code",
   "execution_count": 17,
   "id": "f2732d9a-2210-4d78-8b47-74672f563010",
   "metadata": {},
   "outputs": [
    {
     "name": "stdout",
     "output_type": "stream",
     "text": [
      "20.04308943089431\n"
     ]
    }
   ],
   "source": [
    "mean_mpg_usa = df_usa[df_usa['origin'] == 'usa']['mpg'].mean()\n",
    "print(mean_mpg_usa)"
   ]
  },
  {
   "cell_type": "code",
   "execution_count": 19,
   "id": "7244dbe4-c015-4923-b897-2307f2b9605b",
   "metadata": {},
   "outputs": [
    {
     "name": "stdout",
     "output_type": "stream",
     "text": [
      "103\n"
     ]
    }
   ],
   "source": [
    "eight_cyl_usa = df[(df['origin'] == 'usa') & (df['cylinders'] == 8)].shape[0]\n",
    "print(eight_cyl_usa)\n"
   ]
  },
  {
   "cell_type": "code",
   "execution_count": 21,
   "id": "056bf671-42db-4436-b202-995e518b3b0c",
   "metadata": {},
   "outputs": [
    {
     "name": "stdout",
     "output_type": "stream",
     "text": [
      "<class 'pandas.core.frame.DataFrame'>\n",
      "RangeIndex: 395 entries, 0 to 394\n",
      "Data columns (total 9 columns):\n",
      " #   Column        Non-Null Count  Dtype  \n",
      "---  ------        --------------  -----  \n",
      " 0   mpg           395 non-null    float64\n",
      " 1   cylinders     395 non-null    int64  \n",
      " 2   displacement  395 non-null    float64\n",
      " 3   horsepower    390 non-null    float64\n",
      " 4   weight        395 non-null    int64  \n",
      " 5   acceleration  395 non-null    float64\n",
      " 6   model_year    395 non-null    int64  \n",
      " 7   origin        395 non-null    object \n",
      " 8   name          395 non-null    object \n",
      "dtypes: float64(4), int64(3), object(2)\n",
      "memory usage: 27.9+ KB\n"
     ]
    }
   ],
   "source": [
    "df.info()"
   ]
  },
  {
   "cell_type": "code",
   "execution_count": 23,
   "id": "d6c738d1-b0a6-4954-96dd-3e44a8dcc5b4",
   "metadata": {},
   "outputs": [
    {
     "name": "stdout",
     "output_type": "stream",
     "text": [
      "      mpg  cylinders  displacement  horsepower  weight  acceleration  \\\n",
      "0    18.0          8         307.0       130.0    3504          12.0   \n",
      "1    15.0          8         350.0       165.0    3693          11.5   \n",
      "2    18.0          8         318.0       150.0    3436          11.0   \n",
      "3    16.0          8         304.0       150.0    3433          12.0   \n",
      "4    17.0          8         302.0       140.0    3449          10.5   \n",
      "..    ...        ...           ...         ...     ...           ...   \n",
      "390  27.0          4         140.0        86.0    2790          15.6   \n",
      "391  44.0          4          97.0        52.0    2130          24.6   \n",
      "392  32.0          4         135.0        84.0    2295          11.6   \n",
      "393  28.0          4         120.0        79.0    2625          18.6   \n",
      "394  31.0          4         119.0        82.0    2720          19.4   \n",
      "\n",
      "     model_year  origin                       name  \n",
      "0            70     usa  chevrolet chevelle malibu  \n",
      "1            70     usa          buick skylark 320  \n",
      "2            70     usa         plymouth satellite  \n",
      "3            70     usa              amc rebel sst  \n",
      "4            70     usa                ford torino  \n",
      "..          ...     ...                        ...  \n",
      "390          82     usa            ford mustang gl  \n",
      "391          82  europe                  vw pickup  \n",
      "392          82     usa              dodge rampage  \n",
      "393          82     usa                ford ranger  \n",
      "394          82     usa                 chevy s-10  \n",
      "\n",
      "[390 rows x 9 columns]\n"
     ]
    }
   ],
   "source": [
    "df_horsepower = df.copy()\n",
    "\n",
    "df_horsepower = df_horsepower.dropna()\n",
    "print(df_horsepower)\n"
   ]
  },
  {
   "cell_type": "code",
   "execution_count": 25,
   "id": "71226e51-5440-4ffa-8cc7-09171f256cf4",
   "metadata": {},
   "outputs": [
    {
     "name": "stdout",
     "output_type": "stream",
     "text": [
      "150.0\n"
     ]
    }
   ],
   "source": [
    "mode_hp = df_horsepower['horsepower'].mode()[0]\n",
    "print(mode_hp)"
   ]
  },
  {
   "cell_type": "code",
   "execution_count": 27,
   "id": "2b6603a9-7713-4cf5-af46-afe7eb50c607",
   "metadata": {},
   "outputs": [
    {
     "name": "stdout",
     "output_type": "stream",
     "text": [
      "      mpg  cylinders  displacement  horsepower  weight  acceleration  \\\n",
      "1    15.0          8         350.0       165.0    3693          11.5   \n",
      "2    18.0          8         318.0       150.0    3436          11.0   \n",
      "3    16.0          8         304.0       150.0    3433          12.0   \n",
      "5    15.0          8         429.0       198.0    4341          10.0   \n",
      "6    14.0          8         454.0       220.0    4354           9.0   \n",
      "..    ...        ...           ...         ...     ...           ...   \n",
      "228  15.5          8         350.0       170.0    4165          11.4   \n",
      "229  15.5          8         400.0       190.0    4325          12.2   \n",
      "261  17.7          6         231.0       165.0    3445          13.4   \n",
      "287  16.9          8         350.0       155.0    4360          14.9   \n",
      "290  18.5          8         360.0       150.0    3940          13.0   \n",
      "\n",
      "     model_year origin                                  name  \n",
      "1            70    usa                     buick skylark 320  \n",
      "2            70    usa                    plymouth satellite  \n",
      "3            70    usa                         amc rebel sst  \n",
      "5            70    usa                      ford galaxie 500  \n",
      "6            70    usa                      chevrolet impala  \n",
      "..          ...    ...                                   ...  \n",
      "228          77    usa          chevrolet monte carlo landau  \n",
      "229          77    usa                      chrysler cordoba  \n",
      "261          78    usa       buick regal sport coupe (turbo)  \n",
      "287          79    usa               buick estate wagon (sw)  \n",
      "290          79    usa  chrysler lebaron town @ country (sw)  \n",
      "\n",
      "[67 rows x 9 columns]\n"
     ]
    }
   ],
   "source": [
    "df_high_hp = df_horsepower.copy()\n",
    "\n",
    "df_high_hp = df_horsepower[df_horsepower['horsepower'] >= mode_hp]\n",
    "print(df_high_hp)"
   ]
  },
  {
   "cell_type": "code",
   "execution_count": 29,
   "id": "b8023d37-6c4f-4eb1-8ee1-f92aad8dced3",
   "metadata": {},
   "outputs": [
    {
     "name": "stdout",
     "output_type": "stream",
     "text": [
      "98.50746268656717\n"
     ]
    }
   ],
   "source": [
    "percentage_eight_cyl = len(df_high_hp[df_high_hp['cylinders'] == 8]) / len(df_high_hp) * 100\n",
    "print(percentage_eight_cyl)"
   ]
  },
  {
   "cell_type": "code",
   "execution_count": 31,
   "id": "ee69fcfd-9353-4bd2-9451-ba2007557901",
   "metadata": {},
   "outputs": [
    {
     "data": {
      "text/plain": [
       "name\n",
       "toyota corolla         5\n",
       "amc matador            5\n",
       "ford maverick          5\n",
       "toyota corona          4\n",
       "chevrolet chevette     4\n",
       "                      ..\n",
       "chevrolet monza 2+2    1\n",
       "ford mustang ii        1\n",
       "pontiac astro          1\n",
       "amc pacer              1\n",
       "chevy s-10             1\n",
       "Name: count, Length: 306, dtype: int64"
      ]
     },
     "execution_count": 31,
     "metadata": {},
     "output_type": "execute_result"
    }
   ],
   "source": [
    "df['name'].value_counts()"
   ]
  },
  {
   "cell_type": "code",
   "execution_count": 33,
   "id": "c9305774-750a-498c-a8ae-c282fbef6087",
   "metadata": {},
   "outputs": [
    {
     "name": "stdout",
     "output_type": "stream",
     "text": [
      "      mpg  cylinders  displacement  horsepower  weight  acceleration  \\\n",
      "0    18.0          8         307.0       130.0    3504          12.0   \n",
      "1    15.0          8         350.0       165.0    3693          11.5   \n",
      "2    18.0          8         318.0       150.0    3436          11.0   \n",
      "3    16.0          8         304.0       150.0    3433          12.0   \n",
      "4    17.0          8         302.0       140.0    3449          10.5   \n",
      "..    ...        ...           ...         ...     ...           ...   \n",
      "390  27.0          4         140.0        86.0    2790          15.6   \n",
      "391  44.0          4          97.0        52.0    2130          24.6   \n",
      "392  32.0          4         135.0        84.0    2295          11.6   \n",
      "393  28.0          4         120.0        79.0    2625          18.6   \n",
      "394  31.0          4         119.0        82.0    2720          19.4   \n",
      "\n",
      "     model_year  origin                       name  \\\n",
      "0            70     usa  chevrolet chevelle malibu   \n",
      "1            70     usa          buick skylark 320   \n",
      "2            70     usa         plymouth satellite   \n",
      "3            70     usa              amc rebel sst   \n",
      "4            70     usa                ford torino   \n",
      "..          ...     ...                        ...   \n",
      "390          82     usa            ford mustang gl   \n",
      "391          82  europe                  vw pickup   \n",
      "392          82     usa              dodge rampage   \n",
      "393          82     usa                ford ranger   \n",
      "394          82     usa                 chevy s-10   \n",
      "\n",
      "                            name_year  \n",
      "0    chevrolet chevelle malibu - 1970  \n",
      "1            buick skylark 320 - 1970  \n",
      "2           plymouth satellite - 1970  \n",
      "3                amc rebel sst - 1970  \n",
      "4                  ford torino - 1970  \n",
      "..                                ...  \n",
      "390            ford mustang gl - 1982  \n",
      "391                  vw pickup - 1982  \n",
      "392              dodge rampage - 1982  \n",
      "393                ford ranger - 1982  \n",
      "394                 chevy s-10 - 1982  \n",
      "\n",
      "[395 rows x 10 columns]\n"
     ]
    }
   ],
   "source": [
    "df_name = df.copy()\n",
    "\n",
    "df_name['name_year'] = df_name['name'] + ' - 19' + df_name['model_year'].astype(str)\n",
    "print(df_name)"
   ]
  },
  {
   "cell_type": "code",
   "execution_count": 35,
   "id": "9026912e-2a7f-4c6d-8338-e92390522965",
   "metadata": {},
   "outputs": [
    {
     "data": {
      "text/plain": [
       "name_year\n",
       "chevrolet chevelle malibu - 1970    1\n",
       "datsun 200-sx - 1978                1\n",
       "plymouth sapporo - 1978             1\n",
       "toyota celica gt liftback - 1978    1\n",
       "dodge omni - 1978                   1\n",
       "                                   ..\n",
       "ford pinto - 1974                   1\n",
       "datsun b210 - 1974                  1\n",
       "chevrolet nova - 1974               1\n",
       "amc hornet - 1974                   1\n",
       "chevy s-10 - 1982                   1\n",
       "Name: count, Length: 395, dtype: int64"
      ]
     },
     "execution_count": 35,
     "metadata": {},
     "output_type": "execute_result"
    }
   ],
   "source": [
    "df_name['name_year'].value_counts()"
   ]
  },
  {
   "cell_type": "code",
   "execution_count": 37,
   "id": "f07ce875-d060-454c-b5eb-2f8a3d94b129",
   "metadata": {},
   "outputs": [
    {
     "name": "stdout",
     "output_type": "stream",
     "text": [
      "                                   mpg  cylinders  displacement  horsepower  \\\n",
      "name_year                                                                     \n",
      "chevrolet chevelle malibu - 1970  18.0          8         307.0       130.0   \n",
      "buick skylark 320 - 1970          15.0          8         350.0       165.0   \n",
      "plymouth satellite - 1970         18.0          8         318.0       150.0   \n",
      "amc rebel sst - 1970              16.0          8         304.0       150.0   \n",
      "ford torino - 1970                17.0          8         302.0       140.0   \n",
      "...                                ...        ...           ...         ...   \n",
      "ford mustang gl - 1982            27.0          4         140.0        86.0   \n",
      "vw pickup - 1982                  44.0          4          97.0        52.0   \n",
      "dodge rampage - 1982              32.0          4         135.0        84.0   \n",
      "ford ranger - 1982                28.0          4         120.0        79.0   \n",
      "chevy s-10 - 1982                 31.0          4         119.0        82.0   \n",
      "\n",
      "                                  weight  acceleration  model_year  origin  \\\n",
      "name_year                                                                    \n",
      "chevrolet chevelle malibu - 1970    3504          12.0          70     usa   \n",
      "buick skylark 320 - 1970            3693          11.5          70     usa   \n",
      "plymouth satellite - 1970           3436          11.0          70     usa   \n",
      "amc rebel sst - 1970                3433          12.0          70     usa   \n",
      "ford torino - 1970                  3449          10.5          70     usa   \n",
      "...                                  ...           ...         ...     ...   \n",
      "ford mustang gl - 1982              2790          15.6          82     usa   \n",
      "vw pickup - 1982                    2130          24.6          82  europe   \n",
      "dodge rampage - 1982                2295          11.6          82     usa   \n",
      "ford ranger - 1982                  2625          18.6          82     usa   \n",
      "chevy s-10 - 1982                   2720          19.4          82     usa   \n",
      "\n",
      "                                                       name  \n",
      "name_year                                                    \n",
      "chevrolet chevelle malibu - 1970  chevrolet chevelle malibu  \n",
      "buick skylark 320 - 1970                  buick skylark 320  \n",
      "plymouth satellite - 1970                plymouth satellite  \n",
      "amc rebel sst - 1970                          amc rebel sst  \n",
      "ford torino - 1970                              ford torino  \n",
      "...                                                     ...  \n",
      "ford mustang gl - 1982                      ford mustang gl  \n",
      "vw pickup - 1982                                  vw pickup  \n",
      "dodge rampage - 1982                          dodge rampage  \n",
      "ford ranger - 1982                              ford ranger  \n",
      "chevy s-10 - 1982                                chevy s-10  \n",
      "\n",
      "[395 rows x 9 columns]\n"
     ]
    }
   ],
   "source": [
    "df_car_index = df_name.copy()\n",
    "\n",
    "df_car_index.set_index('name_year', inplace=True)\n",
    "print(df_car_index)"
   ]
  },
  {
   "cell_type": "code",
   "execution_count": 39,
   "id": "ad08fd98-f3cb-4d7b-8875-d8248fb0798b",
   "metadata": {},
   "outputs": [],
   "source": [
    "def acceleration(name_year):\n",
    "    acceleration_value = df_car_index.loc[name_year, 'acceleration']\n",
    "    return acceleration_value"
   ]
  },
  {
   "cell_type": "code",
   "execution_count": 41,
   "id": "70d6da8a-baf0-40ae-b317-a49f89fe40cf",
   "metadata": {},
   "outputs": [
    {
     "data": {
      "text/plain": [
       "10.5"
      ]
     },
     "execution_count": 41,
     "metadata": {},
     "output_type": "execute_result"
    }
   ],
   "source": [
    "acceleration('ford torino - 1970')"
   ]
  },
  {
   "cell_type": "code",
   "execution_count": null,
   "id": "da40974e-f3c2-49e2-9b69-25eba0d61cf5",
   "metadata": {},
   "outputs": [],
   "source": []
  }
 ],
 "metadata": {
  "kernelspec": {
   "display_name": "anaconda-panel-2023.05-py310",
   "language": "python",
   "name": "conda-env-anaconda-panel-2023.05-py310-py"
  },
  "language_info": {
   "codemirror_mode": {
    "name": "ipython",
    "version": 3
   },
   "file_extension": ".py",
   "mimetype": "text/x-python",
   "name": "python",
   "nbconvert_exporter": "python",
   "pygments_lexer": "ipython3",
   "version": "3.11.5"
  }
 },
 "nbformat": 4,
 "nbformat_minor": 5
}
