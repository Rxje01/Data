{
 "cells": [
  {
   "cell_type": "code",
   "execution_count": 2,
   "id": "0f5d3025-ef32-47fc-892a-9f15aef1d122",
   "metadata": {},
   "outputs": [],
   "source": [
    "import pandas as pd"
   ]
  },
  {
   "cell_type": "code",
   "execution_count": 6,
   "id": "3812e432-c86b-4d08-9a18-b836dc34cfdc",
   "metadata": {},
   "outputs": [
    {
     "data": {
      "text/html": [
       "<div>\n",
       "<style scoped>\n",
       "    .dataframe tbody tr th:only-of-type {\n",
       "        vertical-align: middle;\n",
       "    }\n",
       "\n",
       "    .dataframe tbody tr th {\n",
       "        vertical-align: top;\n",
       "    }\n",
       "\n",
       "    .dataframe thead th {\n",
       "        text-align: right;\n",
       "    }\n",
       "</style>\n",
       "<table border=\"1\" class=\"dataframe\">\n",
       "  <thead>\n",
       "    <tr style=\"text-align: right;\">\n",
       "      <th></th>\n",
       "      <th>Date</th>\n",
       "      <th>Open</th>\n",
       "      <th>High</th>\n",
       "      <th>Low</th>\n",
       "      <th>Close</th>\n",
       "      <th>Adj Close</th>\n",
       "      <th>Volume</th>\n",
       "    </tr>\n",
       "  </thead>\n",
       "  <tbody>\n",
       "    <tr>\n",
       "      <th>0</th>\n",
       "      <td>2015-06-30</td>\n",
       "      <td>125.570000</td>\n",
       "      <td>126.120003</td>\n",
       "      <td>124.860001</td>\n",
       "      <td>125.430000</td>\n",
       "      <td>115.597382</td>\n",
       "      <td>44370700</td>\n",
       "    </tr>\n",
       "    <tr>\n",
       "      <th>1</th>\n",
       "      <td>2015-07-01</td>\n",
       "      <td>126.900002</td>\n",
       "      <td>126.940002</td>\n",
       "      <td>125.989998</td>\n",
       "      <td>126.599998</td>\n",
       "      <td>116.675667</td>\n",
       "      <td>30238800</td>\n",
       "    </tr>\n",
       "    <tr>\n",
       "      <th>2</th>\n",
       "      <td>2015-07-02</td>\n",
       "      <td>126.430000</td>\n",
       "      <td>126.690002</td>\n",
       "      <td>125.769997</td>\n",
       "      <td>126.440002</td>\n",
       "      <td>116.528198</td>\n",
       "      <td>27211000</td>\n",
       "    </tr>\n",
       "    <tr>\n",
       "      <th>3</th>\n",
       "      <td>2015-07-06</td>\n",
       "      <td>124.940002</td>\n",
       "      <td>126.230003</td>\n",
       "      <td>124.849998</td>\n",
       "      <td>126.000000</td>\n",
       "      <td>116.122704</td>\n",
       "      <td>28060400</td>\n",
       "    </tr>\n",
       "    <tr>\n",
       "      <th>4</th>\n",
       "      <td>2015-07-07</td>\n",
       "      <td>125.889999</td>\n",
       "      <td>126.150002</td>\n",
       "      <td>123.769997</td>\n",
       "      <td>125.690002</td>\n",
       "      <td>115.837006</td>\n",
       "      <td>46946800</td>\n",
       "    </tr>\n",
       "  </tbody>\n",
       "</table>\n",
       "</div>"
      ],
      "text/plain": [
       "         Date        Open        High         Low       Close   Adj Close  \\\n",
       "0  2015-06-30  125.570000  126.120003  124.860001  125.430000  115.597382   \n",
       "1  2015-07-01  126.900002  126.940002  125.989998  126.599998  116.675667   \n",
       "2  2015-07-02  126.430000  126.690002  125.769997  126.440002  116.528198   \n",
       "3  2015-07-06  124.940002  126.230003  124.849998  126.000000  116.122704   \n",
       "4  2015-07-07  125.889999  126.150002  123.769997  125.690002  115.837006   \n",
       "\n",
       "     Volume  \n",
       "0  44370700  \n",
       "1  30238800  \n",
       "2  27211000  \n",
       "3  28060400  \n",
       "4  46946800  "
      ]
     },
     "execution_count": 6,
     "metadata": {},
     "output_type": "execute_result"
    }
   ],
   "source": [
    "df = pd.read_csv('AAPL.csv')\n",
    "df.head()"
   ]
  },
  {
   "cell_type": "code",
   "execution_count": 8,
   "id": "1d0d721e-b734-4f14-91b0-32be77ea079e",
   "metadata": {},
   "outputs": [],
   "source": [
    "df['Date'] = pd.to_datetime(df['Date'])\n",
    "df['Year'] = df['Date'].dt.year\n",
    "df['Month'] = df['Date'].dt.month\n",
    "df['Day'] = df['Date'].dt.day\n",
    "df['Weekday'] = df['Date'].dt.day_name()\n",
    "df['Change %'] = (df['Adj Close'].pct_change() * 100)"
   ]
  },
  {
   "cell_type": "code",
   "execution_count": 10,
   "id": "a9b54aa8-b2c2-4374-9d83-7acc9b740d35",
   "metadata": {},
   "outputs": [
    {
     "data": {
      "text/html": [
       "<div>\n",
       "<style scoped>\n",
       "    .dataframe tbody tr th:only-of-type {\n",
       "        vertical-align: middle;\n",
       "    }\n",
       "\n",
       "    .dataframe tbody tr th {\n",
       "        vertical-align: top;\n",
       "    }\n",
       "\n",
       "    .dataframe thead th {\n",
       "        text-align: right;\n",
       "    }\n",
       "</style>\n",
       "<table border=\"1\" class=\"dataframe\">\n",
       "  <thead>\n",
       "    <tr style=\"text-align: right;\">\n",
       "      <th></th>\n",
       "      <th>Date</th>\n",
       "      <th>Open</th>\n",
       "      <th>High</th>\n",
       "      <th>Low</th>\n",
       "      <th>Close</th>\n",
       "      <th>Adj Close</th>\n",
       "      <th>Volume</th>\n",
       "      <th>Year</th>\n",
       "      <th>Month</th>\n",
       "      <th>Day</th>\n",
       "      <th>Weekday</th>\n",
       "      <th>Change %</th>\n",
       "    </tr>\n",
       "  </thead>\n",
       "  <tbody>\n",
       "    <tr>\n",
       "      <th>0</th>\n",
       "      <td>2015-06-30</td>\n",
       "      <td>125.570000</td>\n",
       "      <td>126.120003</td>\n",
       "      <td>124.860001</td>\n",
       "      <td>125.430000</td>\n",
       "      <td>115.597382</td>\n",
       "      <td>44370700</td>\n",
       "      <td>2015</td>\n",
       "      <td>6</td>\n",
       "      <td>30</td>\n",
       "      <td>Tuesday</td>\n",
       "      <td>NaN</td>\n",
       "    </tr>\n",
       "    <tr>\n",
       "      <th>1</th>\n",
       "      <td>2015-07-01</td>\n",
       "      <td>126.900002</td>\n",
       "      <td>126.940002</td>\n",
       "      <td>125.989998</td>\n",
       "      <td>126.599998</td>\n",
       "      <td>116.675667</td>\n",
       "      <td>30238800</td>\n",
       "      <td>2015</td>\n",
       "      <td>7</td>\n",
       "      <td>1</td>\n",
       "      <td>Wednesday</td>\n",
       "      <td>0.932794</td>\n",
       "    </tr>\n",
       "    <tr>\n",
       "      <th>2</th>\n",
       "      <td>2015-07-02</td>\n",
       "      <td>126.430000</td>\n",
       "      <td>126.690002</td>\n",
       "      <td>125.769997</td>\n",
       "      <td>126.440002</td>\n",
       "      <td>116.528198</td>\n",
       "      <td>27211000</td>\n",
       "      <td>2015</td>\n",
       "      <td>7</td>\n",
       "      <td>2</td>\n",
       "      <td>Thursday</td>\n",
       "      <td>-0.126392</td>\n",
       "    </tr>\n",
       "    <tr>\n",
       "      <th>3</th>\n",
       "      <td>2015-07-06</td>\n",
       "      <td>124.940002</td>\n",
       "      <td>126.230003</td>\n",
       "      <td>124.849998</td>\n",
       "      <td>126.000000</td>\n",
       "      <td>116.122704</td>\n",
       "      <td>28060400</td>\n",
       "      <td>2015</td>\n",
       "      <td>7</td>\n",
       "      <td>6</td>\n",
       "      <td>Monday</td>\n",
       "      <td>-0.347979</td>\n",
       "    </tr>\n",
       "    <tr>\n",
       "      <th>4</th>\n",
       "      <td>2015-07-07</td>\n",
       "      <td>125.889999</td>\n",
       "      <td>126.150002</td>\n",
       "      <td>123.769997</td>\n",
       "      <td>125.690002</td>\n",
       "      <td>115.837006</td>\n",
       "      <td>46946800</td>\n",
       "      <td>2015</td>\n",
       "      <td>7</td>\n",
       "      <td>7</td>\n",
       "      <td>Tuesday</td>\n",
       "      <td>-0.246031</td>\n",
       "    </tr>\n",
       "  </tbody>\n",
       "</table>\n",
       "</div>"
      ],
      "text/plain": [
       "        Date        Open        High         Low       Close   Adj Close  \\\n",
       "0 2015-06-30  125.570000  126.120003  124.860001  125.430000  115.597382   \n",
       "1 2015-07-01  126.900002  126.940002  125.989998  126.599998  116.675667   \n",
       "2 2015-07-02  126.430000  126.690002  125.769997  126.440002  116.528198   \n",
       "3 2015-07-06  124.940002  126.230003  124.849998  126.000000  116.122704   \n",
       "4 2015-07-07  125.889999  126.150002  123.769997  125.690002  115.837006   \n",
       "\n",
       "     Volume  Year  Month  Day    Weekday  Change %  \n",
       "0  44370700  2015      6   30    Tuesday       NaN  \n",
       "1  30238800  2015      7    1  Wednesday  0.932794  \n",
       "2  27211000  2015      7    2   Thursday -0.126392  \n",
       "3  28060400  2015      7    6     Monday -0.347979  \n",
       "4  46946800  2015      7    7    Tuesday -0.246031  "
      ]
     },
     "execution_count": 10,
     "metadata": {},
     "output_type": "execute_result"
    }
   ],
   "source": [
    "df.head()"
   ]
  },
  {
   "cell_type": "code",
   "execution_count": 12,
   "id": "5c276bf7-1c37-4a28-b7a8-da0b8fc74eca",
   "metadata": {},
   "outputs": [
    {
     "name": "stdout",
     "output_type": "stream",
     "text": [
      "167.04975667513898\n"
     ]
    }
   ],
   "source": [
    "mean_adj_close = df['Adj Close'].mean()\n",
    "print(mean_adj_close)"
   ]
  },
  {
   "cell_type": "code",
   "execution_count": 14,
   "id": "c25e53c1-0071-4d63-afa7-0c1eca739b65",
   "metadata": {},
   "outputs": [
    {
     "name": "stdout",
     "output_type": "stream",
     "text": [
      "89.470001\n"
     ]
    }
   ],
   "source": [
    "min_low = df['Low'].min()\n",
    "print(min_low)\n"
   ]
  },
  {
   "cell_type": "code",
   "execution_count": 16,
   "id": "95ffa817-d098-49d1-ab79-a32bb26b27f1",
   "metadata": {},
   "outputs": [
    {
     "name": "stdout",
     "output_type": "stream",
     "text": [
      "372.380005\n"
     ]
    }
   ],
   "source": [
    "max_high = df['High'].max()\n",
    "print(max_high)"
   ]
  },
  {
   "cell_type": "code",
   "execution_count": 18,
   "id": "b52b0482-8f49-4eb0-a602-ba25003b877e",
   "metadata": {},
   "outputs": [
    {
     "name": "stdout",
     "output_type": "stream",
     "text": [
      "282.91000399999996\n"
     ]
    }
   ],
   "source": [
    "price_range = df['High'].max() - df['Low'].min()\n",
    "print(price_range)"
   ]
  },
  {
   "cell_type": "code",
   "execution_count": 20,
   "id": "c5c40bf6-9063-4953-91b1-c4567df7bc62",
   "metadata": {},
   "outputs": [
    {
     "name": "stdout",
     "output_type": "stream",
     "text": [
      "1259\n"
     ]
    }
   ],
   "source": [
    "entries = df.shape[0]\n",
    "print(entries)"
   ]
  },
  {
   "cell_type": "code",
   "execution_count": 22,
   "id": "6114aaa5-3830-4b03-9ebb-0e72e8c30c6e",
   "metadata": {},
   "outputs": [
    {
     "name": "stdout",
     "output_type": "stream",
     "text": [
      "671\n"
     ]
    }
   ],
   "source": [
    "positive_days = (df['Change %'] > 0).sum()\n",
    "print(positive_days)"
   ]
  },
  {
   "cell_type": "code",
   "execution_count": 24,
   "id": "e2a6e5fa-7cb6-4fe3-8059-834f1a912937",
   "metadata": {},
   "outputs": [
    {
     "name": "stdout",
     "output_type": "stream",
     "text": [
      "2\n"
     ]
    }
   ],
   "source": [
    "days_higher = (df['Adj Close'] > df.iloc[-1]['Adj Close']).sum()\n",
    "print(days_higher)"
   ]
  },
  {
   "cell_type": "code",
   "execution_count": 28,
   "id": "a206b904-164f-49ac-a3d0-9af18fe6ead3",
   "metadata": {},
   "outputs": [],
   "source": [
    "df_2020 = df[df['Year'] == 2020].copy()\n",
    "df_2020.set_index('Date', inplace=True)"
   ]
  },
  {
   "cell_type": "code",
   "execution_count": 36,
   "id": "efde74f9-4690-4ba1-a0af-f2d9a5240d48",
   "metadata": {},
   "outputs": [
    {
     "name": "stdout",
     "output_type": "stream",
     "text": [
      "0.2918877852311579\n"
     ]
    }
   ],
   "source": [
    "mean_change_mon_2020 = (df_2020['Change %'][df_2020['Weekday'] == 'Monday']).mean()\n",
    "print(mean_change_mon_2020)"
   ]
  },
  {
   "cell_type": "code",
   "execution_count": 38,
   "id": "3901d86c-86b0-4fe4-ba9e-9701360f795f",
   "metadata": {},
   "outputs": [
    {
     "name": "stdout",
     "output_type": "stream",
     "text": [
      "1570018100\n"
     ]
    }
   ],
   "source": [
    "total_volume_march_2020 = df_2020[df_2020['Month'] == 3]['Volume'].sum()\n",
    "print(total_volume_march_2020)"
   ]
  },
  {
   "cell_type": "code",
   "execution_count": 40,
   "id": "8b143c29-9c57-4abf-8557-f8faa37f2a31",
   "metadata": {},
   "outputs": [
    {
     "name": "stdout",
     "output_type": "stream",
     "text": [
      "2020-06-23 00:00:00\n"
     ]
    }
   ],
   "source": [
    "year_high_timestamp = (df_2020['Adj Close']).idxmax()\n",
    "print(year_high_timestamp)"
   ]
  },
  {
   "cell_type": "code",
   "execution_count": 42,
   "id": "37b95f86-3511-4537-b148-969e23605517",
   "metadata": {},
   "outputs": [],
   "source": [
    "df_top_10 = df.nlargest(10, 'Change %').copy()"
   ]
  },
  {
   "cell_type": "code",
   "execution_count": 44,
   "id": "a48392fe-18e2-4759-8b6b-47991afe6304",
   "metadata": {},
   "outputs": [
    {
     "name": "stdout",
     "output_type": "stream",
     "text": [
      "8\n"
     ]
    }
   ],
   "source": [
    "top_10_not_mon = (df_top_10['Weekday'] != 'Monday').sum()\n",
    "print(top_10_not_mon)"
   ]
  },
  {
   "cell_type": "code",
   "execution_count": 46,
   "id": "611fd7f5-f725-48f8-8809-0738306ede29",
   "metadata": {},
   "outputs": [],
   "source": [
    "df_var = df.copy()\n",
    "df_var['Variation %'] = ((df['High'] - df['Low']) / df['Close']) * 100"
   ]
  },
  {
   "cell_type": "code",
   "execution_count": null,
   "id": "35e5332a-e060-4632-b208-fdf657ef6751",
   "metadata": {},
   "outputs": [],
   "source": []
  }
 ],
 "metadata": {
  "kernelspec": {
   "display_name": "anaconda-panel-2023.05-py310",
   "language": "python",
   "name": "conda-env-anaconda-panel-2023.05-py310-py"
  },
  "language_info": {
   "codemirror_mode": {
    "name": "ipython",
    "version": 3
   },
   "file_extension": ".py",
   "mimetype": "text/x-python",
   "name": "python",
   "nbconvert_exporter": "python",
   "pygments_lexer": "ipython3",
   "version": "3.11.5"
  }
 },
 "nbformat": 4,
 "nbformat_minor": 5
}
